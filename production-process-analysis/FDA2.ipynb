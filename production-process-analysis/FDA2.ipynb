{
  "nbformat": 4,
  "nbformat_minor": 0,
  "metadata": {
    "colab": {
      "provenance": []
    },
    "kernelspec": {
      "name": "python3",
      "display_name": "Python 3"
    },
    "language_info": {
      "name": "python"
    }
  },
  "cells": [
    {
      "cell_type": "markdown",
      "source": [
        "Import Libraries"
      ],
      "metadata": {
        "id": "l10nfQxFyreG"
      }
    },
    {
      "cell_type": "code",
      "execution_count": 6,
      "metadata": {
        "id": "7iJDR2iHBI44"
      },
      "outputs": [],
      "source": [
        "import pandas as pd\n",
        "import numpy as np\n",
        "from scipy import stats\n",
        "import statsmodels.api as sm\n",
        "from statsmodels.formula.api import ols"
      ]
    },
    {
      "cell_type": "markdown",
      "source": [
        "Dataset Generation"
      ],
      "metadata": {
        "id": "7h2J0xGLyuaN"
      }
    },
    {
      "cell_type": "code",
      "source": [
        "# Set the seed for reproducibility\n",
        "np.random.seed(42)\n",
        "num_records = 400\n",
        "\n",
        "# Generate date range\n",
        "date_range = pd.date_range(start='2023-01-01', periods=num_records, freq='D')\n",
        "\n",
        "# Generate product IDs\n",
        "product_ids = np.arange(1, num_records + 1)\n",
        "\n",
        "# Generate random production times (in minutes)\n",
        "production_times = np.random.randint(30, 180, size=num_records)\n",
        "\n",
        "# Generate random temperature values (in Celsius)\n",
        "temperatures = np.random.uniform(15, 30, size=num_records)\n",
        "\n",
        "# Generate random humidity values (in percentage)\n",
        "humidities = np.random.uniform(20, 80, size=num_records)\n",
        "\n",
        "# Generate random quality scores (0 to 100)\n",
        "quality_scores = np.random.uniform(50, 100, size=num_records)\n",
        "\n",
        "# Create DataFrame\n",
        "data = {\n",
        "    'Production_Date': date_range,\n",
        "    'Product_ID': product_ids,\n",
        "    'Production_Time': production_times,\n",
        "    'Temperature': temperatures,\n",
        "    'Humidity': humidities,\n",
        "    'Quality_Score': quality_scores\n",
        "}\n",
        "\n",
        "df = pd.DataFrame(data)\n",
        "\n",
        "# Save the DataFrame to an Excel file\n",
        "excel_file_path = '/content/production_quality_dataset.xlsx'\n",
        "df.to_excel(excel_file_path, index=False)\n",
        "print(f\"Dataset saved to {excel_file_path}\")"
      ],
      "metadata": {
        "id": "Yx41XZ7yyZwM",
        "colab": {
          "base_uri": "https://localhost:8080/"
        },
        "outputId": "8e70b31d-5717-459b-eaca-a24d372371d1"
      },
      "execution_count": 7,
      "outputs": [
        {
          "output_type": "stream",
          "name": "stdout",
          "text": [
            "Dataset saved to /content/production_quality_dataset.xlsx\n"
          ]
        }
      ]
    },
    {
      "cell_type": "markdown",
      "source": [
        "Analyzing the data using statistical techniques"
      ],
      "metadata": {
        "id": "va3xsEH40kb4"
      }
    },
    {
      "cell_type": "code",
      "source": [
        "# Descriptive statistics\n",
        "print(\"Descriptive Statistics:\")\n",
        "print(df.describe())\n",
        "\n",
        "# ANOVA to determine the influence of Temperature and Humidity on Quality Score\n",
        "model = ols('Quality_Score ~ Temperature + Humidity + Production_Time', data=df).fit()\n",
        "anova_table = sm.stats.anova_lm(model, typ=2)\n",
        "print(\"\\nANOVA Table:\")\n",
        "print(anova_table)\n",
        "\n",
        "# T-tests for each factor\n",
        "print(\"\\nT-tests:\")\n",
        "ttest_temp = stats.ttest_ind(df[df['Temperature'] > df['Temperature'].median()]['Quality_Score'],\n",
        "                             df[df['Temperature'] <= df['Temperature'].median()]['Quality_Score'])\n",
        "print(f\"T-test for Temperature: {ttest_temp}\")\n",
        "\n",
        "ttest_humid = stats.ttest_ind(df[df['Humidity'] > df['Humidity'].median()]['Quality_Score'],\n",
        "                              df[df['Humidity'] <= df['Humidity'].median()]['Quality_Score'])\n",
        "print(f\"T-test for Humidity: {ttest_humid}\")\n",
        "\n",
        "ttest_time = stats.ttest_ind(df[df['Production_Time'] > df['Production_Time'].median()]['Quality_Score'],\n",
        "                             df[df['Production_Time'] <= df['Production_Time'].median()]['Quality_Score'])\n",
        "print(f\"T-test for Production Time: {ttest_time}\")"
      ],
      "metadata": {
        "colab": {
          "base_uri": "https://localhost:8080/"
        },
        "id": "tbLIBujGx0Dd",
        "outputId": "0854ce29-dc66-4232-c423-80b8cfbf8f43"
      },
      "execution_count": 8,
      "outputs": [
        {
          "output_type": "stream",
          "name": "stdout",
          "text": [
            "Descriptive Statistics:\n",
            "           Production_Date  Product_ID  Production_Time  Temperature  \\\n",
            "count                  400  400.000000       400.000000   400.000000   \n",
            "mean   2023-07-19 12:00:00  200.500000       107.260000    22.469611   \n",
            "min    2023-01-01 00:00:00    1.000000        30.000000    15.162565   \n",
            "25%    2023-04-10 18:00:00  100.750000        70.000000    18.539599   \n",
            "50%    2023-07-19 12:00:00  200.500000       112.000000    22.402841   \n",
            "75%    2023-10-27 06:00:00  300.250000       145.000000    26.408228   \n",
            "max    2024-02-04 00:00:00  400.000000       179.000000    29.995765   \n",
            "std                    NaN  115.614301        43.582807     4.458471   \n",
            "\n",
            "         Humidity  Quality_Score  \n",
            "count  400.000000     400.000000  \n",
            "mean    50.123635      75.170983  \n",
            "min     20.277921      50.246999  \n",
            "25%     34.006741      62.156149  \n",
            "50%     50.557316      75.832692  \n",
            "75%     65.764728      87.145348  \n",
            "max     79.876047      99.970686  \n",
            "std     17.584276      14.674794  \n",
            "\n",
            "ANOVA Table:\n",
            "                       sum_sq     df         F    PR(>F)\n",
            "Temperature          2.956265    1.0  0.013790  0.906578\n",
            "Humidity           114.137712    1.0  0.532418  0.466024\n",
            "Production_Time    841.909553    1.0  3.927251  0.048201\n",
            "Residual         84893.011779  396.0       NaN       NaN\n",
            "\n",
            "T-tests:\n",
            "T-test for Temperature: TtestResult(statistic=0.3729349633514975, pvalue=0.7093953811838741, df=398.0)\n",
            "T-test for Humidity: TtestResult(statistic=0.16875519704333336, pvalue=0.8660749289644444, df=398.0)\n",
            "T-test for Production Time: TtestResult(statistic=-0.2939782000209382, pvalue=0.7689278108515085, df=398.0)\n"
          ]
        }
      ]
    },
    {
      "cell_type": "markdown",
      "source": [
        "Strategies for improving product quality based on the analysis"
      ],
      "metadata": {
        "id": "hsBVnQd_0xPR"
      }
    },
    {
      "cell_type": "code",
      "source": [
        "def propose_strategies(anova_table, ttests):\n",
        "    strategies = []\n",
        "    for factor in anova_table.index:\n",
        "        p_value = anova_table.loc[factor, 'PR(>F)']\n",
        "        if p_value < 0.05:\n",
        "            strategies.append(f\"Optimize {factor.lower()} as it significantly influences product quality (p-value={p_value:.3f}).\")\n",
        "\n",
        "    for name, test in ttests.items():\n",
        "        if test.pvalue < 0.05:\n",
        "            strategies.append(f\"Adjust {name.lower()} as it significantly influences product quality (p-value={test.pvalue:.3f}).\")\n",
        "\n",
        "    return strategies\n",
        "\n",
        "ttests = {\n",
        "    'Temperature': ttest_temp,\n",
        "    'Humidity': ttest_humid,\n",
        "    'Production Time': ttest_time\n",
        "}\n",
        "\n",
        "strategies = propose_strategies(anova_table, ttests)\n",
        "print(\"\\nProposed Strategies for Improving Product Quality:\")\n",
        "for strategy in strategies:\n",
        "    print(f\"- {strategy}\")\n",
        "\n"
      ],
      "metadata": {
        "colab": {
          "base_uri": "https://localhost:8080/"
        },
        "id": "fNGjHdanzsEd",
        "outputId": "7c1fb004-4c4c-467a-c72c-22e3c2fc0ffe"
      },
      "execution_count": 9,
      "outputs": [
        {
          "output_type": "stream",
          "name": "stdout",
          "text": [
            "\n",
            "Proposed Strategies for Improving Product Quality:\n",
            "- Optimize production_time as it significantly influences product quality (p-value=0.048).\n"
          ]
        }
      ]
    },
    {
      "cell_type": "code",
      "source": [],
      "metadata": {
        "id": "SH5YtRil1FtO"
      },
      "execution_count": null,
      "outputs": []
    }
  ]
}