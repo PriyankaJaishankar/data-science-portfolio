{
  "nbformat": 4,
  "nbformat_minor": 0,
  "metadata": {
    "colab": {
      "provenance": []
    },
    "kernelspec": {
      "name": "python3",
      "display_name": "Python 3"
    },
    "language_info": {
      "name": "python"
    }
  },
  "cells": [
    {
      "cell_type": "markdown",
      "source": [
        "Importing Libraries"
      ],
      "metadata": {
        "id": "ihcaUwlR7z1K"
      }
    },
    {
      "cell_type": "code",
      "execution_count": 7,
      "metadata": {
        "id": "IH-WMtY87xEi"
      },
      "outputs": [],
      "source": [
        "import pandas as pd\n",
        "import numpy as np\n",
        "import random\n",
        "from datetime import datetime, timedelta\n",
        "from sklearn.preprocessing import StandardScaler\n",
        "from sklearn.ensemble import IsolationForest"
      ]
    },
    {
      "cell_type": "markdown",
      "source": [
        "Dataset Generation"
      ],
      "metadata": {
        "id": "5TjvBis_74oX"
      }
    },
    {
      "cell_type": "code",
      "source": [
        "# Set random seed for reproducibility\n",
        "np.random.seed(0)\n",
        "\n",
        "# Number of records to generate\n",
        "num_records = 400\n",
        "\n",
        "# Generate Transaction IDs\n",
        "transaction_ids = range(1, num_records + 1)\n",
        "\n",
        "# Generate random dates within a range\n",
        "start_date = datetime(2023, 1, 1)\n",
        "end_date = datetime(2023, 12, 31)\n",
        "date_list = [start_date + timedelta(days=random.randint(0, 365)) for _ in range(num_records)]\n",
        "dates = [d.date() for d in date_list]\n",
        "\n",
        "# Generate random times\n",
        "times = [datetime.strptime(f\"{random.randint(0,23):02}:{random.randint(0,59):02}:{random.randint(0,59):02}\", \"%H:%M:%S\").time() for _ in range(num_records)]\n",
        "\n",
        "# Generate random amounts (between 1 and 1000 dollars)\n",
        "amounts = np.random.uniform(1, 1000, num_records)\n",
        "\n",
        "# Generate random merchants\n",
        "merchants = ['Merchant_' + str(random.randint(1, 50)) for _ in range(num_records)]\n",
        "\n",
        "# Generate random card numbers (for simplicity, just generate unique integers)\n",
        "card_numbers = np.random.randint(1000000000000000, 9999999999999999, num_records, dtype=np.int64)\n",
        "\n",
        "# Generate random transaction types\n",
        "transaction_types = ['purchase', 'withdrawal', 'transfer']\n",
        "transaction_types = [random.choice(transaction_types) for _ in range(num_records)]\n",
        "\n",
        "# Create DataFrame\n",
        "data = {\n",
        "    'Transaction ID': transaction_ids,\n",
        "    'Date': dates,\n",
        "    'Time': times,\n",
        "    'Amount': amounts,\n",
        "    'Merchant': merchants,\n",
        "    'Card Number': card_numbers,\n",
        "    'Transaction Type': transaction_types\n",
        "}\n",
        "\n",
        "df = pd.DataFrame(data)\n",
        "\n",
        "# Print first few rows to verify\n",
        "print(df.head())\n",
        "\n",
        "# Save to Excel file\n",
        "df.to_excel('/content/credit_card_transactions.xlsx', index=False)"
      ],
      "metadata": {
        "colab": {
          "base_uri": "https://localhost:8080/"
        },
        "id": "Uuzk1_Qa74AO",
        "outputId": "27de090c-7776-43f3-9408-a4a5bd73c81f"
      },
      "execution_count": 8,
      "outputs": [
        {
          "output_type": "stream",
          "name": "stdout",
          "text": [
            "   Transaction ID        Date      Time      Amount     Merchant  \\\n",
            "0               1  2023-07-01  11:18:14  549.264690  Merchant_46   \n",
            "1               2  2023-04-02  13:50:17  715.474177  Merchant_35   \n",
            "2               3  2023-01-02  00:20:54  603.160613  Merchant_33   \n",
            "3               4  2023-10-18  05:16:44  545.338300  Merchant_10   \n",
            "4               5  2023-08-24  09:53:44  424.231145  Merchant_40   \n",
            "\n",
            "        Card Number Transaction Type  \n",
            "0  8020663219505600         transfer  \n",
            "1  2700694006837080         transfer  \n",
            "2  1102403226669007         purchase  \n",
            "3  9804902423091900         transfer  \n",
            "4  7417772457172645       withdrawal  \n"
          ]
        }
      ]
    },
    {
      "cell_type": "markdown",
      "source": [
        "Represent Transaction Data as Matrices/Vectors (Linear Algebra)"
      ],
      "metadata": {
        "id": "dnp4YVCn86qo"
      }
    },
    {
      "cell_type": "code",
      "source": [
        "# Extract numeric columns for linear algebra representation\n",
        "numeric_cols = ['Amount']\n",
        "\n",
        "# Normalize data\n",
        "scaler = StandardScaler()\n",
        "df[numeric_cols] = scaler.fit_transform(df[numeric_cols])\n",
        "\n",
        "# Example of transforming 'Amount' to a vector (numpy array)\n",
        "amounts_vector = df['Amount'].values\n",
        "\n",
        "# Print first few values of the vector\n",
        "print(\"Vector representation of 'Amount':\")\n",
        "print(amounts_vector[:10])"
      ],
      "metadata": {
        "colab": {
          "base_uri": "https://localhost:8080/"
        },
        "id": "_EOjaeOO8DLu",
        "outputId": "16a0e208-04a8-46bc-c3e2-49699611d746"
      },
      "execution_count": 9,
      "outputs": [
        {
          "output_type": "stream",
          "name": "stdout",
          "text": [
            "Vector representation of 'Amount':\n",
            "[ 0.18340141  0.75915904  0.37009947  0.1698002  -0.24972079  0.519357\n",
            " -0.20150651  1.37024152  1.61902207 -0.38888222]\n"
          ]
        }
      ]
    },
    {
      "cell_type": "markdown",
      "source": [
        "Apply Statistical Methods (Anomaly Detection)"
      ],
      "metadata": {
        "id": "yRkZMCzJ9D17"
      }
    },
    {
      "cell_type": "code",
      "source": [
        "# Fit Isolation Forest model\n",
        "iso_forest = IsolationForest(contamination=0.01, random_state=0)  # Assuming 1% of data may be anomalous\n",
        "df['Anomaly_Score'] = iso_forest.fit_predict(df[['Amount']])\n",
        "\n",
        "# Flag potential fraud transactions (anomalies)\n",
        "df['Potential Fraud'] = np.where(df['Anomaly_Score'] == -1, 'Yes', 'No')\n",
        "\n",
        "# Print flagged transactions\n",
        "print(\"Flagged potential fraud transactions:\")\n",
        "print(df[df['Potential Fraud'] == 'Yes'][['Transaction ID', 'Date', 'Time', 'Amount', 'Potential Fraud']].head())"
      ],
      "metadata": {
        "colab": {
          "base_uri": "https://localhost:8080/"
        },
        "id": "RXsJ-L7T89tx",
        "outputId": "cf92ba81-f34f-4f0b-b118-479ffb389b33"
      },
      "execution_count": 10,
      "outputs": [
        {
          "output_type": "stream",
          "name": "stderr",
          "text": [
            "/usr/local/lib/python3.10/dist-packages/sklearn/base.py:439: UserWarning: X does not have valid feature names, but IsolationForest was fitted with feature names\n",
            "  warnings.warn(\n"
          ]
        },
        {
          "output_type": "stream",
          "name": "stdout",
          "text": [
            "Flagged potential fraud transactions:\n",
            "     Transaction ID        Date      Time    Amount Potential Fraud\n",
            "52               53  2023-05-17  07:02:30  1.704537             Yes\n",
            "99              100  2023-03-13  07:58:51 -1.699565             Yes\n",
            "149             150  2023-09-17  11:37:26  1.740780             Yes\n",
            "210             211  2023-12-15  09:44:49  1.711337             Yes\n"
          ]
        }
      ]
    },
    {
      "cell_type": "markdown",
      "source": [
        "Save Processed Data to Excel"
      ],
      "metadata": {
        "id": "shnSgdvR9NX4"
      }
    },
    {
      "cell_type": "code",
      "source": [
        "df.to_excel('/content/processed_credit_card_transactions.xlsx', index=False)\n",
        "print(\"Processed data saved to 'processed_credit_card_transactions.xlsx'.\")"
      ],
      "metadata": {
        "colab": {
          "base_uri": "https://localhost:8080/"
        },
        "id": "4-d-bs2l9Jsc",
        "outputId": "96028dda-4a17-4bc0-eebd-13b514b503b2"
      },
      "execution_count": 12,
      "outputs": [
        {
          "output_type": "stream",
          "name": "stdout",
          "text": [
            "Processed data saved to 'processed_credit_card_transactions.xlsx'.\n"
          ]
        }
      ]
    },
    {
      "cell_type": "code",
      "source": [],
      "metadata": {
        "id": "JepgHpUP9Pp8"
      },
      "execution_count": null,
      "outputs": []
    }
  ]
}